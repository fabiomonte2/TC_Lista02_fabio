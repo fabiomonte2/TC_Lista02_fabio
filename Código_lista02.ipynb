{
  "nbformat": 4,
  "nbformat_minor": 0,
  "metadata": {
    "colab": {
      "provenance": []
    },
    "kernelspec": {
      "name": "python3",
      "display_name": "Python 3"
    },
    "language_info": {
      "name": "python"
    }
  },
  "cells": [
    {
      "cell_type": "markdown",
      "source": [
        "## Código lista 02"
      ],
      "metadata": {
        "id": "o6fx51Y37w8i"
      }
    },
    {
      "cell_type": "markdown",
      "source": [
        "# Exercício 01"
      ],
      "metadata": {
        "id": "vPG0j7C18iqs"
      }
    },
    {
      "cell_type": "code",
      "source": [
        "# (a)\n",
        "\n",
        "def count_gs(string):\n",
        "    count = 0\n",
        "    for char in string:\n",
        "        if char == \"G\":\n",
        "            count += 1\n",
        "    return count\n",
        "\n",
        "input_string = \"GATTAGCGCGCGCGGATGGGGAGAGA\"\n",
        "result = count_gs(input_string)\n",
        "print(\"O número de ocorrências de 'G' na string é:\", result)"
      ],
      "metadata": {
        "colab": {
          "base_uri": "https://localhost:8080/"
        },
        "id": "s2NXobo58nDG",
        "outputId": "89d3415e-d87e-45a8-f44f-0af9a409eb44"
      },
      "execution_count": 9,
      "outputs": [
        {
          "output_type": "stream",
          "name": "stdout",
          "text": [
            "O número de ocorrências de 'G' na string é: 13\n"
          ]
        }
      ]
    },
    {
      "cell_type": "code",
      "source": [
        "# (b) \n",
        "\n",
        "def count_Gs(s):\n",
        "    count = 0\n",
        "    for c in s:\n",
        "        if c == 'G':\n",
        "            count += 1\n",
        "    return count\n",
        "\n",
        "# Exemplo de uso\n",
        "input_string = \"GGTACCACTTGGGA\"\n",
        "result = count_Gs(input_string)\n",
        "print(result) # Output: 5\n"
      ],
      "metadata": {
        "id": "KI0GYaPXJKZP"
      },
      "execution_count": null,
      "outputs": []
    },
    {
      "cell_type": "code",
      "source": [
        "# (c)\n",
        "\n",
        "def count_gs_decision(k: int, I: str) -> str:\n",
        "    count = 0\n",
        "    for c in I:\n",
        "        if c == 'G':\n",
        "            count += 1\n",
        "    if count == k:\n",
        "        return \"sim\"\n",
        "    else:\n",
        "        return \"não\"\n"
      ],
      "metadata": {
        "id": "Utf6QBPGQ4H0"
      },
      "execution_count": null,
      "outputs": []
    },
    {
      "cell_type": "markdown",
      "source": [
        "#Exercício 02"
      ],
      "metadata": {
        "id": "134HFju-8nnt"
      }
    },
    {
      "cell_type": "code",
      "source": [
        "# (a) \n",
        "\n",
        "def decider_L(w):\n",
        "  # Implementação da primeira máquina de Turing que decide L\n",
        "  # Retorna True se w está em L e False caso contrário\n",
        "\n",
        "def decider_L_decidivel():\n",
        "  # Implementação da segunda máquina de Turing que decide L\n",
        "  # Executa a primeira máquina de Turing em paralelo para cada entrada possível\n",
        "  # Retorna True se a primeira máquina aceita a entrada e False caso contrário\n"
      ],
      "metadata": {
        "id": "pH9ngglR8r8l"
      },
      "execution_count": null,
      "outputs": []
    },
    {
      "cell_type": "code",
      "source": [
        "# (b)\n",
        "\n",
        "def decider_L1(w):\n",
        "  # Implementação da primeira máquina de Turing que decide L1\n",
        "  # Retorna True se w está em L1 e False caso contrário\n",
        "\n",
        "def decider_L2(w):\n",
        "  # Implementação da segunda máquina de Turing que decide L2\n",
        "  # Retorna True se w está em L2 e False caso contrário\n",
        "\n",
        "def decider_uniao(L1, L2, w):\n",
        "  # Implementação da terceira máquina de Turing que decide a união de L1 e L2\n",
        "  # Executa as máquinas de Turing de L1 e L2 em paralelo para cada entrada possível\n",
        "  # Retorna True se pelo menos uma das máquinas aceita a entrada e False caso contrário\n",
        "\n",
        "def decider_intersecao(L1, L2, w):\n",
        "  # Implementação da quarta máquina de Turing que decide a interseção de L1 e L2\n",
        "  # Executa as máquinas de Turing de L1 e L2 em paralelo para cada entrada possível\n",
        "  # Retorna True se as duas máquinas aceitam a entrada e False caso contrário\n",
        "\n"
      ],
      "metadata": {
        "id": "U4w5vWDALzIj"
      },
      "execution_count": null,
      "outputs": []
    },
    {
      "cell_type": "markdown",
      "source": [
        "#Exercício 05\n",
        "\n"
      ],
      "metadata": {
        "id": "fVYseam85aR6"
      }
    },
    {
      "cell_type": "code",
      "source": [
        "## Questão 05 \n",
        "\n",
        "def applyBothTwic(P, Q, I,):\n",
        "  return Q(P(Q(P(I))))"
      ],
      "metadata": {
        "id": "eD7IWw-_5fKZ"
      },
      "execution_count": 4,
      "outputs": []
    },
    {
      "cell_type": "code",
      "source": [
        "P = lambda x: x * 2 \n",
        "Q = lambda x: x + 1\n",
        "I = 5 \n",
        "\n",
        "result = applyBothTwic(P, Q, I)\n",
        "print(result)\n"
      ],
      "metadata": {
        "colab": {
          "base_uri": "https://localhost:8080/"
        },
        "id": "BtnUd4q46U85",
        "outputId": "437ca0b6-f025-47df-c487-2a0ebae2c521"
      },
      "execution_count": 8,
      "outputs": [
        {
          "output_type": "stream",
          "name": "stdout",
          "text": [
            "23\n"
          ]
        }
      ]
    }
  ]
}